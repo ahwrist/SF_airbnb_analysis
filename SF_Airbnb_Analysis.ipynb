{
 "cells": [
  {
   "cell_type": "code",
   "execution_count": 1,
   "id": "71fd3635",
   "metadata": {},
   "outputs": [],
   "source": [
    "#Import Data prep/processing packages\n",
    "import numpy as np\n",
    "import pandas as pd\n",
    "import re\n",
    "import statistics as stat\n",
    "\n",
    "#import plotting packages\n",
    "import matplotlib.pyplot as plt\n",
    "%matplotlib inline\n",
    "import seaborn as sns\n",
    "\n",
    "#import machine learning packages\n",
    "from sklearn.linear_model import LinearRegression\n",
    "from sklearn.ensemble import RandomForestRegressor\n",
    "from sklearn.model_selection import train_test_split\n",
    "from sklearn.metrics import r2_score, mean_squared_error\n",
    "from sklearn.preprocessing import MultiLabelBinarizer\n",
    "\n",
    "#set float format to 2 decimal places\n",
    "pd.set_option('display.float_format', lambda x: '%.2f' % x)"
   ]
  },
  {
   "cell_type": "markdown",
   "id": "bd05a126",
   "metadata": {},
   "source": [
    "# Introduction"
   ]
  },
  {
   "cell_type": "markdown",
   "id": "e21af6ff",
   "metadata": {},
   "source": [
    "An Airbnb host in the San Francisco Bay Area is likely paying a premium in housing costs. Therefore, maximizing price is a priority in order to realize a profit from their listings. To maximize the price, a host may ask, \"What Airbnb listing features are important?\", \"What amenities should I offer?\", and \"What size, room type, and location will maximize my profit?\". Using Airbnb Listings data from http://insideairbnb.com/get-the-data/, this analysis utilizes the CRISP-DM Data Science process to help the Airbnb host answer those questions."
   ]
  },
  {
   "cell_type": "markdown",
   "id": "0af28e11",
   "metadata": {},
   "source": [
    "# Data Understanding and Preparation"
   ]
  },
  {
   "cell_type": "code",
   "execution_count": 2,
   "id": "53244752",
   "metadata": {},
   "outputs": [],
   "source": [
    "#import listings as dataframe, \"listings\"\n",
    "df_raw = pd.read_csv('./listings.csv')"
   ]
  },
  {
   "cell_type": "markdown",
   "id": "7d740b3d",
   "metadata": {},
   "source": [
    "First off, we want to focus on listings that have reviews. It's easy to post a listing on Airbnb without having a review, so focusing on those with just reviews gives us more confidence that the price is accurate for what the accommodations are worth."
   ]
  },
  {
   "cell_type": "code",
   "execution_count": 3,
   "id": "3c2436fe",
   "metadata": {},
   "outputs": [
    {
     "name": "stdout",
     "output_type": "stream",
     "text": [
      "20.832684 percent of listings do not have any reviews.\n"
     ]
    }
   ],
   "source": [
    "#Determine what percent of listings have a review. Drop those without a review since features of hosts with reviews will be more predictive of price.\n",
    "no_reviews = df_raw['review_scores_rating'].isnull().mean()*100\n",
    "df = df_raw.dropna(how = 'any', subset = ['review_scores_rating'])  #drop listings with no reviews\n",
    "print('%f percent of listings do not have any reviews.' %no_reviews)"
   ]
  },
  {
   "cell_type": "code",
   "execution_count": 4,
   "id": "846cd703",
   "metadata": {},
   "outputs": [
    {
     "name": "stderr",
     "output_type": "stream",
     "text": [
      "/Users/andrewwrist/opt/anaconda3/lib/python3.9/site-packages/pandas/core/indexing.py:1773: SettingWithCopyWarning: \n",
      "A value is trying to be set on a copy of a slice from a DataFrame.\n",
      "Try using .loc[row_indexer,col_indexer] = value instead\n",
      "\n",
      "See the caveats in the documentation: https://pandas.pydata.org/pandas-docs/stable/user_guide/indexing.html#returning-a-view-versus-a-copy\n",
      "  self._setitem_single_column(ilocs[0], value, pi)\n"
     ]
    },
    {
     "data": {
      "text/plain": [
       "count    5077.00\n",
       "mean      210.71\n",
       "std       435.80\n",
       "min         0.00\n",
       "25%        95.00\n",
       "50%       145.00\n",
       "75%       227.00\n",
       "max     25000.00\n",
       "Name: price, dtype: float64"
      ]
     },
     "execution_count": 4,
     "metadata": {},
     "output_type": "execute_result"
    }
   ],
   "source": [
    "#Convert price to number and get descriptive statistics of price\n",
    "df.loc[:,('price')] = df.loc[:,('price')].replace('[\\$,]','',regex = True).astype(float) #convert price to float, remove $\n",
    "df['price'].describe()"
   ]
  },
  {
   "cell_type": "markdown",
   "id": "b2ac8995",
   "metadata": {},
   "source": [
    "Max price of $25,000? Wow. This is obviously an outlier--especially considering the mean of $435.80 and std of $435.80. We will take care of these outliers and get rid of the free listings with the next steps."
   ]
  },
  {
   "cell_type": "code",
   "execution_count": 5,
   "id": "0a98270f",
   "metadata": {},
   "outputs": [
    {
     "data": {
      "text/plain": [
       "count    5076.00\n",
       "mean      210.76\n",
       "std       435.83\n",
       "min        10.00\n",
       "25%        95.00\n",
       "50%       145.00\n",
       "75%       227.00\n",
       "max     25000.00\n",
       "Name: price, dtype: float64"
      ]
     },
     "execution_count": 5,
     "metadata": {},
     "output_type": "execute_result"
    }
   ],
   "source": [
    "#Remove $0 price from data frame\n",
    "df = df[df['price']>0].reset_index() #keep only prices above $0\n",
    "df['price'].describe()"
   ]
  },
  {
   "cell_type": "markdown",
   "id": "72dbb3a6",
   "metadata": {},
   "source": [
    "The outliers cause an obvious skew to the dataset, and this is very apparent with the following histogram plots for price and log(price). Log(price) helps a bit, but still doesn't give that normal distribution that will help us out with our machine learning algorithms later on."
   ]
  },
  {
   "cell_type": "code",
   "execution_count": 6,
   "id": "5d2b793a",
   "metadata": {},
   "outputs": [
    {
     "data": {
      "image/png": "[encoded data removed]",
      "text/plain": [
       "<Figure size 1152x288 with 2 Axes>"
      ]
     },
     "metadata": {
      "needs_background": "light"
     },
     "output_type": "display_data"
    }
   ],
   "source": [
    "def plot_skew(col):\n",
    "    '''\n",
    "    Plot normal distribution and calculate skew for price column in dataset\n",
    "    '''\n",
    "    #Since we will be aiming for a normal distribution to make our predictions using linear regression, we must reduce the skewness. \n",
    "    price_skew = col.skew(axis = 0, skipna = True) #calculate skew of price\n",
    "    logprice_skew = (np.log(col)).skew(axis = 0, skipna = True) #calculate log of price\n",
    "\n",
    "    #plot price and log price distributions\n",
    "    fig, ax =plt.subplots(1, 2, figsize=(16,4))\n",
    "    chart1 = sns.histplot(col, ax=ax[0], color='b')\n",
    "    chart1.set_xlabel('Price',fontsize=12)\n",
    "    chart1.annotate(text=f'skew: {price_skew:.2f}', xy=(300, 200), xycoords='axes points')\n",
    "    chart2 = sns.histplot(np.log(col), ax=ax[1], color='g')\n",
    "    chart2.set_xlabel('log Price',fontsize=12)\n",
    "    chart2.annotate(text=f'log price skew: {logprice_skew:.2f}', xy=(300, 200), xycoords='axes points')\n",
    "    \n",
    "plot_skew(df['price'])"
   ]
  },
  {
   "cell_type": "code",
   "execution_count": 7,
   "id": "8af555e0",
   "metadata": {},
   "outputs": [
    {
     "data": {
      "text/plain": [
       "count   4888.00\n",
       "mean     171.70\n",
       "std      112.70\n",
       "min       10.00\n",
       "25%       94.00\n",
       "50%      139.00\n",
       "75%      215.00\n",
       "max      625.00\n",
       "Name: price, dtype: float64"
      ]
     },
     "execution_count": 7,
     "metadata": {},
     "output_type": "execute_result"
    }
   ],
   "source": [
    "#Remove outliers from price and get summary details\n",
    "df = df[df['price']<(df['price'].mean()+stat.stdev(df['price']))].reset_index() #remove outlier prices\n",
    "price = df['price']\n",
    "price.describe()"
   ]
  },
  {
   "cell_type": "code",
   "execution_count": 8,
   "id": "2b4dbf12",
   "metadata": {},
   "outputs": [
    {
     "data": {
      "image/png": "[encoded data removed]",
      "text/plain": [
       "<Figure size 1152x288 with 2 Axes>"
      ]
     },
     "metadata": {
      "needs_background": "light"
     },
     "output_type": "display_data"
    }
   ],
   "source": [
    "#plot price and calculate skew for price dataset with outliers removed\n",
    "plot_skew(df['price'])"
   ]
  },
  {
   "cell_type": "markdown",
   "id": "177f1772",
   "metadata": {},
   "source": [
    "As you can see, after removing outliers, the price distribution looks much better. Especially with the log(price). We'll set these aside and save them for our response variable for later use."
   ]
  },
  {
   "cell_type": "code",
   "execution_count": 9,
   "id": "44ec8b13",
   "metadata": {},
   "outputs": [],
   "source": [
    "#Assign y and y_log to be used in machine learning models later\n",
    "y = price\n",
    "y_log = np.log(price)  #log of price"
   ]
  },
  {
   "cell_type": "code",
   "execution_count": 10,
   "id": "5c9ede7b",
   "metadata": {},
   "outputs": [],
   "source": [
    "#Remove % from rate columns\n",
    "df['host_response_rate'] = df['host_response_rate'].replace('[\\%,]','',regex = True).astype(float)\n",
    "df['host_acceptance_rate'] = df['host_acceptance_rate'].replace('[\\%,]','',regex = True).astype(float)"
   ]
  },
  {
   "cell_type": "code",
   "execution_count": 11,
   "id": "f0298a1a",
   "metadata": {},
   "outputs": [
    {
     "name": "stdout",
     "output_type": "stream",
     "text": [
      "The dataset is composed of data for 4888 listings and 76 variables from 2778 unique hosts in San Francisco as of 12/4/21.\n"
     ]
    }
   ],
   "source": [
    "qty_listings = df.shape[0]\n",
    "qty_columns = df.shape[1]\n",
    "qty_hosts = len(df['host_id'].unique())\n",
    "as_of_date = df['last_scraped'].max()\n",
    "print('The dataset is composed of data for %d listings and %d variables from %d unique hosts in San Francisco as of %s.' \n",
    "      % (qty_listings, qty_columns, qty_hosts, as_of_date))"
   ]
  },
  {
   "cell_type": "markdown",
   "id": "eac6c452",
   "metadata": {},
   "source": [
    "Next, let's create a second version of our dataframe with just the features we think will be important to the study. "
   ]
  },
  {
   "cell_type": "code",
   "execution_count": 12,
   "id": "ad7ea12b",
   "metadata": {},
   "outputs": [],
   "source": [
    "#Select important variables to be used in study\n",
    "df2 = df[['last_scraped', 'name', 'host_response_time', 'host_response_rate', 'host_acceptance_rate',\n",
    "       'host_is_superhost', 'host_listings_count',\n",
    "       'host_total_listings_count', 'host_has_profile_pic',\n",
    "       'neighbourhood_cleansed', 'neighbourhood_group_cleansed', 'property_type', 'room_type', 'accommodates', 'bathrooms',\n",
    "       'bathrooms_text', 'bedrooms', 'beds', 'amenities', 'number_of_reviews', 'review_scores_rating',\n",
    "        'review_scores_accuracy', 'review_scores_cleanliness', 'review_scores_checkin',\n",
    "       'review_scores_communication', 'review_scores_location',\n",
    "       'review_scores_value','instant_bookable','reviews_per_month']]"
   ]
  },
  {
   "cell_type": "code",
   "execution_count": 13,
   "id": "ae227b51",
   "metadata": {},
   "outputs": [
    {
     "data": {
      "text/plain": [
       "neighbourhood_group_cleansed   100.00\n",
       "bathrooms                      100.00\n",
       "host_response_time              21.24\n",
       "host_response_rate              21.24\n",
       "host_acceptance_rate            17.47\n",
       "bedrooms                        13.95\n",
       "beds                             3.66\n",
       "review_scores_location           0.57\n",
       "review_scores_checkin            0.57\n",
       "review_scores_value              0.57\n",
       "review_scores_accuracy           0.55\n",
       "review_scores_cleanliness        0.55\n",
       "review_scores_communication      0.55\n",
       "bathrooms_text                   0.14\n",
       "host_has_profile_pic             0.04\n",
       "host_total_listings_count        0.04\n",
       "host_listings_count              0.04\n",
       "host_is_superhost                0.04\n",
       "dtype: float64"
      ]
     },
     "execution_count": 13,
     "metadata": {},
     "output_type": "execute_result"
    }
   ],
   "source": [
    "#determine what percent of values are missing from dataset for different features\n",
    "df_pcnt_missing = df2.isnull().mean()*100 #calculates percent nans in each column\n",
    "df_missing = df_pcnt_missing[df_pcnt_missing>0]\n",
    "df_missing.sort_values(ascending = False)"
   ]
  },
  {
   "cell_type": "markdown",
   "id": "a6838f4b",
   "metadata": {},
   "source": [
    "There are two features with 100% missing values. We will go ahead and remove those."
   ]
  },
  {
   "cell_type": "code",
   "execution_count": 14,
   "id": "d702daad",
   "metadata": {},
   "outputs": [
    {
     "name": "stdout",
     "output_type": "stream",
     "text": [
      "There are 18 columns with nan values.\n"
     ]
    }
   ],
   "source": [
    "#Print quantity of columns with missing data\n",
    "qty_nan_cols = df_missing.shape[0]\n",
    "print('There are %d columns with nan values.' %qty_nan_cols)"
   ]
  },
  {
   "cell_type": "code",
   "execution_count": 15,
   "id": "e76d9736",
   "metadata": {},
   "outputs": [],
   "source": [
    "#Drop columns with more than % missing values specified\n",
    "pcnt_missing_thresh = 0.75  #establish threshold for number of missing values that is acceptable\n",
    "df2_pcnt_missing_thresh = set(df2.columns[df2.isnull().mean()>pcnt_missing_thresh])\n",
    "df2 = df2.drop(df2_pcnt_missing_thresh,axis  = 1)"
   ]
  },
  {
   "cell_type": "markdown",
   "id": "577d0298",
   "metadata": {},
   "source": [
    "Next up, we will separate out the airbnb_name and amenities features to apply some natural language processing and separate out individual amenities and name words. We'll leave the remaining categorical data in its own, one-hot-encoded dataframe."
   ]
  },
  {
   "cell_type": "code",
   "execution_count": 16,
   "id": "d58d8aee",
   "metadata": {},
   "outputs": [
    {
     "data": {
      "text/html": [
       "<div>\n",
       "<style scoped>\n",
       "    .dataframe tbody tr th:only-of-type {\n",
       "        vertical-align: middle;\n",
       "    }\n",
       "\n",
       "    .dataframe tbody tr th {\n",
       "        vertical-align: top;\n",
       "    }\n",
       "\n",
       "    .dataframe thead th {\n",
       "        text-align: right;\n",
       "    }\n",
       "</style>\n",
       "<table border=\"1\" class=\"dataframe\">\n",
       "  <thead>\n",
       "    <tr style=\"text-align: right;\">\n",
       "      <th></th>\n",
       "      <th>host_response_time_a few days or more</th>\n",
       "      <th>host_response_time_within a day</th>\n",
       "      <th>host_response_time_within a few hours</th>\n",
       "      <th>host_response_time_within an hour</th>\n",
       "      <th>host_is_superhost_f</th>\n",
       "      <th>host_is_superhost_t</th>\n",
       "      <th>host_has_profile_pic_t</th>\n",
       "      <th>neighbourhood_cleansed_Bayview</th>\n",
       "      <th>neighbourhood_cleansed_Bernal Heights</th>\n",
       "      <th>neighbourhood_cleansed_Castro/Upper Market</th>\n",
       "      <th>...</th>\n",
       "      <th>bathrooms_text_10 shared baths</th>\n",
       "      <th>bathrooms_text_2 baths</th>\n",
       "      <th>bathrooms_text_2 shared baths</th>\n",
       "      <th>bathrooms_text_2.5 baths</th>\n",
       "      <th>bathrooms_text_2.5 shared baths</th>\n",
       "      <th>bathrooms_text_3 baths</th>\n",
       "      <th>bathrooms_text_4 shared baths</th>\n",
       "      <th>bathrooms_text_5 shared baths</th>\n",
       "      <th>instant_bookable_f</th>\n",
       "      <th>instant_bookable_t</th>\n",
       "    </tr>\n",
       "  </thead>\n",
       "  <tbody>\n",
       "    <tr>\n",
       "      <th>0</th>\n",
       "      <td>0</td>\n",
       "      <td>0</td>\n",
       "      <td>1</td>\n",
       "      <td>0</td>\n",
       "      <td>0</td>\n",
       "      <td>1</td>\n",
       "      <td>1</td>\n",
       "      <td>0</td>\n",
       "      <td>0</td>\n",
       "      <td>0</td>\n",
       "      <td>...</td>\n",
       "      <td>0</td>\n",
       "      <td>0</td>\n",
       "      <td>0</td>\n",
       "      <td>0</td>\n",
       "      <td>0</td>\n",
       "      <td>0</td>\n",
       "      <td>0</td>\n",
       "      <td>0</td>\n",
       "      <td>1</td>\n",
       "      <td>0</td>\n",
       "    </tr>\n",
       "    <tr>\n",
       "      <th>1</th>\n",
       "      <td>0</td>\n",
       "      <td>1</td>\n",
       "      <td>0</td>\n",
       "      <td>0</td>\n",
       "      <td>1</td>\n",
       "      <td>0</td>\n",
       "      <td>1</td>\n",
       "      <td>0</td>\n",
       "      <td>1</td>\n",
       "      <td>0</td>\n",
       "      <td>...</td>\n",
       "      <td>0</td>\n",
       "      <td>0</td>\n",
       "      <td>0</td>\n",
       "      <td>0</td>\n",
       "      <td>0</td>\n",
       "      <td>0</td>\n",
       "      <td>0</td>\n",
       "      <td>0</td>\n",
       "      <td>1</td>\n",
       "      <td>0</td>\n",
       "    </tr>\n",
       "    <tr>\n",
       "      <th>2</th>\n",
       "      <td>0</td>\n",
       "      <td>0</td>\n",
       "      <td>0</td>\n",
       "      <td>1</td>\n",
       "      <td>1</td>\n",
       "      <td>0</td>\n",
       "      <td>1</td>\n",
       "      <td>0</td>\n",
       "      <td>0</td>\n",
       "      <td>0</td>\n",
       "      <td>...</td>\n",
       "      <td>0</td>\n",
       "      <td>0</td>\n",
       "      <td>0</td>\n",
       "      <td>0</td>\n",
       "      <td>0</td>\n",
       "      <td>0</td>\n",
       "      <td>1</td>\n",
       "      <td>0</td>\n",
       "      <td>1</td>\n",
       "      <td>0</td>\n",
       "    </tr>\n",
       "    <tr>\n",
       "      <th>3</th>\n",
       "      <td>0</td>\n",
       "      <td>0</td>\n",
       "      <td>0</td>\n",
       "      <td>1</td>\n",
       "      <td>1</td>\n",
       "      <td>0</td>\n",
       "      <td>1</td>\n",
       "      <td>0</td>\n",
       "      <td>0</td>\n",
       "      <td>0</td>\n",
       "      <td>...</td>\n",
       "      <td>0</td>\n",
       "      <td>0</td>\n",
       "      <td>0</td>\n",
       "      <td>0</td>\n",
       "      <td>0</td>\n",
       "      <td>0</td>\n",
       "      <td>1</td>\n",
       "      <td>0</td>\n",
       "      <td>1</td>\n",
       "      <td>0</td>\n",
       "    </tr>\n",
       "    <tr>\n",
       "      <th>4</th>\n",
       "      <td>0</td>\n",
       "      <td>0</td>\n",
       "      <td>0</td>\n",
       "      <td>1</td>\n",
       "      <td>0</td>\n",
       "      <td>1</td>\n",
       "      <td>1</td>\n",
       "      <td>0</td>\n",
       "      <td>0</td>\n",
       "      <td>0</td>\n",
       "      <td>...</td>\n",
       "      <td>0</td>\n",
       "      <td>0</td>\n",
       "      <td>0</td>\n",
       "      <td>0</td>\n",
       "      <td>0</td>\n",
       "      <td>0</td>\n",
       "      <td>0</td>\n",
       "      <td>0</td>\n",
       "      <td>1</td>\n",
       "      <td>0</td>\n",
       "    </tr>\n",
       "    <tr>\n",
       "      <th>...</th>\n",
       "      <td>...</td>\n",
       "      <td>...</td>\n",
       "      <td>...</td>\n",
       "      <td>...</td>\n",
       "      <td>...</td>\n",
       "      <td>...</td>\n",
       "      <td>...</td>\n",
       "      <td>...</td>\n",
       "      <td>...</td>\n",
       "      <td>...</td>\n",
       "      <td>...</td>\n",
       "      <td>...</td>\n",
       "      <td>...</td>\n",
       "      <td>...</td>\n",
       "      <td>...</td>\n",
       "      <td>...</td>\n",
       "      <td>...</td>\n",
       "      <td>...</td>\n",
       "      <td>...</td>\n",
       "      <td>...</td>\n",
       "      <td>...</td>\n",
       "    </tr>\n",
       "    <tr>\n",
       "      <th>4883</th>\n",
       "      <td>0</td>\n",
       "      <td>0</td>\n",
       "      <td>0</td>\n",
       "      <td>1</td>\n",
       "      <td>1</td>\n",
       "      <td>0</td>\n",
       "      <td>1</td>\n",
       "      <td>0</td>\n",
       "      <td>0</td>\n",
       "      <td>0</td>\n",
       "      <td>...</td>\n",
       "      <td>0</td>\n",
       "      <td>0</td>\n",
       "      <td>0</td>\n",
       "      <td>0</td>\n",
       "      <td>0</td>\n",
       "      <td>0</td>\n",
       "      <td>0</td>\n",
       "      <td>0</td>\n",
       "      <td>1</td>\n",
       "      <td>0</td>\n",
       "    </tr>\n",
       "    <tr>\n",
       "      <th>4884</th>\n",
       "      <td>0</td>\n",
       "      <td>0</td>\n",
       "      <td>0</td>\n",
       "      <td>1</td>\n",
       "      <td>0</td>\n",
       "      <td>1</td>\n",
       "      <td>1</td>\n",
       "      <td>0</td>\n",
       "      <td>0</td>\n",
       "      <td>0</td>\n",
       "      <td>...</td>\n",
       "      <td>0</td>\n",
       "      <td>0</td>\n",
       "      <td>0</td>\n",
       "      <td>0</td>\n",
       "      <td>0</td>\n",
       "      <td>0</td>\n",
       "      <td>0</td>\n",
       "      <td>0</td>\n",
       "      <td>0</td>\n",
       "      <td>1</td>\n",
       "    </tr>\n",
       "    <tr>\n",
       "      <th>4885</th>\n",
       "      <td>0</td>\n",
       "      <td>0</td>\n",
       "      <td>0</td>\n",
       "      <td>1</td>\n",
       "      <td>1</td>\n",
       "      <td>0</td>\n",
       "      <td>1</td>\n",
       "      <td>0</td>\n",
       "      <td>0</td>\n",
       "      <td>0</td>\n",
       "      <td>...</td>\n",
       "      <td>0</td>\n",
       "      <td>1</td>\n",
       "      <td>0</td>\n",
       "      <td>0</td>\n",
       "      <td>0</td>\n",
       "      <td>0</td>\n",
       "      <td>0</td>\n",
       "      <td>0</td>\n",
       "      <td>1</td>\n",
       "      <td>0</td>\n",
       "    </tr>\n",
       "    <tr>\n",
       "      <th>4886</th>\n",
       "      <td>0</td>\n",
       "      <td>0</td>\n",
       "      <td>0</td>\n",
       "      <td>1</td>\n",
       "      <td>1</td>\n",
       "      <td>0</td>\n",
       "      <td>1</td>\n",
       "      <td>0</td>\n",
       "      <td>0</td>\n",
       "      <td>0</td>\n",
       "      <td>...</td>\n",
       "      <td>0</td>\n",
       "      <td>0</td>\n",
       "      <td>0</td>\n",
       "      <td>0</td>\n",
       "      <td>0</td>\n",
       "      <td>0</td>\n",
       "      <td>0</td>\n",
       "      <td>0</td>\n",
       "      <td>0</td>\n",
       "      <td>1</td>\n",
       "    </tr>\n",
       "    <tr>\n",
       "      <th>4887</th>\n",
       "      <td>0</td>\n",
       "      <td>0</td>\n",
       "      <td>0</td>\n",
       "      <td>1</td>\n",
       "      <td>1</td>\n",
       "      <td>0</td>\n",
       "      <td>1</td>\n",
       "      <td>0</td>\n",
       "      <td>0</td>\n",
       "      <td>0</td>\n",
       "      <td>...</td>\n",
       "      <td>0</td>\n",
       "      <td>0</td>\n",
       "      <td>0</td>\n",
       "      <td>0</td>\n",
       "      <td>0</td>\n",
       "      <td>0</td>\n",
       "      <td>0</td>\n",
       "      <td>0</td>\n",
       "      <td>1</td>\n",
       "      <td>0</td>\n",
       "    </tr>\n",
       "  </tbody>\n",
       "</table>\n",
       "<p>4888 rows × 79 columns</p>\n",
       "</div>"
      ],
      "text/plain": [
       "      host_response_time_a few days or more  host_response_time_within a day  \\\n",
       "0                                         0                                0   \n",
       "1                                         0                                1   \n",
       "2                                         0                                0   \n",
       "3                                         0                                0   \n",
       "4                                         0                                0   \n",
       "...                                     ...                              ...   \n",
       "4883                                      0                                0   \n",
       "4884                                      0                                0   \n",
       "4885                                      0                                0   \n",
       "4886                                      0                                0   \n",
       "4887                                      0                                0   \n",
       "\n",
       "      host_response_time_within a few hours  \\\n",
       "0                                         1   \n",
       "1                                         0   \n",
       "2                                         0   \n",
       "3                                         0   \n",
       "4                                         0   \n",
       "...                                     ...   \n",
       "4883                                      0   \n",
       "4884                                      0   \n",
       "4885                                      0   \n",
       "4886                                      0   \n",
       "4887                                      0   \n",
       "\n",
       "      host_response_time_within an hour  host_is_superhost_f  \\\n",
       "0                                     0                    0   \n",
       "1                                     0                    1   \n",
       "2                                     1                    1   \n",
       "3                                     1                    1   \n",
       "4                                     1                    0   \n",
       "...                                 ...                  ...   \n",
       "4883                                  1                    1   \n",
       "4884                                  1                    0   \n",
       "4885                                  1                    1   \n",
       "4886                                  1                    1   \n",
       "4887                                  1                    1   \n",
       "\n",
       "      host_is_superhost_t  host_has_profile_pic_t  \\\n",
       "0                       1                       1   \n",
       "1                       0                       1   \n",
       "2                       0                       1   \n",
       "3                       0                       1   \n",
       "4                       1                       1   \n",
       "...                   ...                     ...   \n",
       "4883                    0                       1   \n",
       "4884                    1                       1   \n",
       "4885                    0                       1   \n",
       "4886                    0                       1   \n",
       "4887                    0                       1   \n",
       "\n",
       "      neighbourhood_cleansed_Bayview  neighbourhood_cleansed_Bernal Heights  \\\n",
       "0                                  0                                      0   \n",
       "1                                  0                                      1   \n",
       "2                                  0                                      0   \n",
       "3                                  0                                      0   \n",
       "4                                  0                                      0   \n",
       "...                              ...                                    ...   \n",
       "4883                               0                                      0   \n",
       "4884                               0                                      0   \n",
       "4885                               0                                      0   \n",
       "4886                               0                                      0   \n",
       "4887                               0                                      0   \n",
       "\n",
       "      neighbourhood_cleansed_Castro/Upper Market  ...  \\\n",
       "0                                              0  ...   \n",
       "1                                              0  ...   \n",
       "2                                              0  ...   \n",
       "3                                              0  ...   \n",
       "4                                              0  ...   \n",
       "...                                          ...  ...   \n",
       "4883                                           0  ...   \n",
       "4884                                           0  ...   \n",
       "4885                                           0  ...   \n",
       "4886                                           0  ...   \n",
       "4887                                           0  ...   \n",
       "\n",
       "      bathrooms_text_10 shared baths  bathrooms_text_2 baths  \\\n",
       "0                                  0                       0   \n",
       "1                                  0                       0   \n",
       "2                                  0                       0   \n",
       "3                                  0                       0   \n",
       "4                                  0                       0   \n",
       "...                              ...                     ...   \n",
       "4883                               0                       0   \n",
       "4884                               0                       0   \n",
       "4885                               0                       1   \n",
       "4886                               0                       0   \n",
       "4887                               0                       0   \n",
       "\n",
       "      bathrooms_text_2 shared baths  bathrooms_text_2.5 baths  \\\n",
       "0                                 0                         0   \n",
       "1                                 0                         0   \n",
       "2                                 0                         0   \n",
       "3                                 0                         0   \n",
       "4                                 0                         0   \n",
       "...                             ...                       ...   \n",
       "4883                              0                         0   \n",
       "4884                              0                         0   \n",
       "4885                              0                         0   \n",
       "4886                              0                         0   \n",
       "4887                              0                         0   \n",
       "\n",
       "      bathrooms_text_2.5 shared baths  bathrooms_text_3 baths  \\\n",
       "0                                   0                       0   \n",
       "1                                   0                       0   \n",
       "2                                   0                       0   \n",
       "3                                   0                       0   \n",
       "4                                   0                       0   \n",
       "...                               ...                     ...   \n",
       "4883                                0                       0   \n",
       "4884                                0                       0   \n",
       "4885                                0                       0   \n",
       "4886                                0                       0   \n",
       "4887                                0                       0   \n",
       "\n",
       "      bathrooms_text_4 shared baths  bathrooms_text_5 shared baths  \\\n",
       "0                                 0                              0   \n",
       "1                                 0                              0   \n",
       "2                                 1                              0   \n",
       "3                                 1                              0   \n",
       "4                                 0                              0   \n",
       "...                             ...                            ...   \n",
       "4883                              0                              0   \n",
       "4884                              0                              0   \n",
       "4885                              0                              0   \n",
       "4886                              0                              0   \n",
       "4887                              0                              0   \n",
       "\n",
       "      instant_bookable_f  instant_bookable_t  \n",
       "0                      1                   0  \n",
       "1                      1                   0  \n",
       "2                      1                   0  \n",
       "3                      1                   0  \n",
       "4                      1                   0  \n",
       "...                  ...                 ...  \n",
       "4883                   1                   0  \n",
       "4884                   0                   1  \n",
       "4885                   1                   0  \n",
       "4886                   0                   1  \n",
       "4887                   1                   0  \n",
       "\n",
       "[4888 rows x 79 columns]"
      ]
     },
     "execution_count": 16,
     "metadata": {},
     "output_type": "execute_result"
    }
   ],
   "source": [
    "#create categories dataframe\n",
    "cat_df = df2.select_dtypes(include=['object']) \n",
    "cat_df = cat_df.drop('last_scraped',axis = 1)\n",
    "airbnb_name = cat_df['name']  #separate out airbnb name\n",
    "amenities = cat_df['amenities']  #separate out amenities\n",
    "cat_df = cat_df.drop(['name','amenities'],axis = 1)  #drop airbnb name, amenities, and price from categories dataframe\n",
    "\n",
    "#fill nan cat columns with modes\n",
    "fill_mode = lambda col: col.fillna(col.mode()[0])\n",
    "cat_df = cat_df.apply(fill_mode, axis=0)\n",
    "\n",
    "#one-hot encode for cat variables\n",
    "cat_one_hot = pd.get_dummies(cat_df, columns = cat_df.columns)\n",
    "cat_one_hot_sums = cat_one_hot.sum()>cat_one_hot.shape[1]/8  #keep features with more than 1/8 response\n",
    "cat_one_hot_thresh = (set(cat_one_hot.columns[cat_one_hot.sum()<cat_one_hot.shape[1]/8]))\n",
    "cat_one_hot = cat_one_hot.drop(cat_one_hot_thresh,axis  = 1)\n",
    "cat_one_hot"
   ]
  },
  {
   "cell_type": "markdown",
   "id": "c82969a8",
   "metadata": {},
   "source": [
    "The amenities feature is essentially a list of lists. Each individual list contains amenities separated by a comma. The following code separates these amenities and uses MultiLabelBinarizer to set up a one-hot-encoded dataframe for each individual amenity. Since there are many many amenities, we only took the top 60 (multiple iterations pointed to 60 being the magic number for maximizing our R-Squared value later on)."
   ]
  },
  {
   "cell_type": "code",
   "execution_count": 17,
   "id": "156a3754",
   "metadata": {},
   "outputs": [],
   "source": [
    "#Create Amenities dataframe and convert amenities list of lists to a dataframe with amenities as columns\n",
    "amenities_dict = {}\n",
    "amenities = amenities.replace('[\\[]','',regex = True).replace('[\\]]','',regex = True).replace('[\\\"]','',regex = True)\n",
    "amenities_list = amenities.to_list()\n",
    "for amenities_list in amenities:\n",
    "    for amenity in amenities_list.split(', '):\n",
    "        if amenity in amenities_dict:\n",
    "            amenities_dict[amenity] = amenities_dict[amenity] + 1\n",
    "        else:\n",
    "            amenities_dict[amenity] = 0\n",
    "amenities_sorted = sorted(amenities_dict.items(), key=lambda x: x[1], reverse=True)\n",
    "\n",
    "#narrow amenities to the top 60 most listed amenities\n",
    "top_amenities = amenities_sorted[0:60]\n",
    "top_amenities_df = pd.DataFrame(top_amenities)\n",
    "top_amenities_list = top_amenities_df[0]\n",
    "\n",
    "#Create amenities one hot encoded DF using MultiLabelBinarizer\n",
    "amenities_list = amenities.to_list()\n",
    "s = pd.Series(amenities_list)\n",
    "mlb = MultiLabelBinarizer()\n",
    "a = mlb.fit_transform(s.str.split(', '))\n",
    "amenities_one_hot = pd.DataFrame(a, columns=mlb.classes_ )\n",
    "amenities_one_hot = amenities_one_hot[top_amenities_list]"
   ]
  },
  {
   "cell_type": "markdown",
   "id": "e819947e",
   "metadata": {},
   "source": [
    "Similar to the amenities dataframe, I broke the Airbnb names out into their individual words, separated by spaces, and one-hot-encoded the most frequently used names. I included a step to take out the obvious stop words and things like \"Francisco\" and \"bedroom\"."
   ]
  },
  {
   "cell_type": "code",
   "execution_count": 18,
   "id": "24dfaa2c",
   "metadata": {},
   "outputs": [],
   "source": [
    "#airbnb name processing to lower case and get rid of special characters\n",
    "airbnb_name_df = airbnb_name.to_frame()\n",
    "airbnb_name_reg = airbnb_name_df.applymap(lambda x: re.sub('[!,*)@#%(&$_?.^-]', '', x))  #remove special characters\n",
    "airbnb_name_lower = airbnb_name_reg['name'].str.lower()\n",
    "\n",
    "\n",
    "#Get most frequenty used airbnb title name words excluding words that we don't want to see\n",
    "airbnb_name_list =  airbnb_name_lower.to_list()\n",
    "name_dict = {}\n",
    "for airbnb_name_list in airbnb_name_lower:\n",
    "    for name_word in airbnb_name_list.split(' '):\n",
    "        #Check if word is in name and is not one of the commonly used words\n",
    "        if name_word in name_dict and name_word not in ['in','a','by','with','','room','the','bedroom','sf','san','w/','francisco','2','of','1','and','to']:\n",
    "            name_dict[name_word] = name_dict[name_word] + 1\n",
    "        else:\n",
    "            name_dict[name_word] = 0\n",
    "\n",
    "#sort name dictionary and return only those that were used more than 300 times.\n",
    "airbnb_name_sorted = sorted(name_dict.items(), key=lambda x: x[1], reverse=True)\n",
    "airbnb_name_sorted_df = pd.DataFrame(airbnb_name_sorted)\n",
    "airbnb_name_sorted_df_top = airbnb_name_sorted_df[airbnb_name_sorted_df[1]>300] #return names used more than 300 times\n",
    "\n",
    "#Create airbnb names one hot encoded DF using MultiLabelBinarizer\n",
    "airbnb_name_list =  airbnb_name_lower.to_list()\n",
    "s = pd.Series(airbnb_name_list)\n",
    "mlb = MultiLabelBinarizer()\n",
    "a = mlb.fit_transform(s.str.split(' '))\n",
    "airbnb_name_one_hot = pd.DataFrame(a, columns=mlb.classes_ )\n",
    "top_names_list = airbnb_name_sorted_df_top[0]\n",
    "name_one_hot = airbnb_name_one_hot[top_names_list].add_prefix('name_')"
   ]
  },
  {
   "cell_type": "markdown",
   "id": "de9ddbfd",
   "metadata": {},
   "source": [
    "Next, I pulled out the numeric variables and filled nans with the mean. I tried both mode and mean, and mean gave us a slightly higher R-Squared value."
   ]
  },
  {
   "cell_type": "code",
   "execution_count": 19,
   "id": "97da689e",
   "metadata": {},
   "outputs": [],
   "source": [
    "#pull numeric variables from reduced dataframe\n",
    "num_vars = df2.select_dtypes(\"number\")\n",
    "\n",
    "#fill mean values for numeric variables with missing values\n",
    "fill_mean = lambda col: col.fillna(col.mean())\n",
    "# Fill the mean\n",
    "fill_num_vars = num_vars.apply(fill_mean, axis=0)"
   ]
  },
  {
   "cell_type": "markdown",
   "id": "b3791d9b",
   "metadata": {},
   "source": [
    "I took a subset of the numeric variables and created a correlation heatmap to see if any obvious correlations stood out. As expected, beds, bedrooms, and accommodates were all correlated with price. Everything else was somewhat negligible, at least on the surface."
   ]
  },
  {
   "cell_type": "code",
   "execution_count": 20,
   "id": "75c7abc7",
   "metadata": {},
   "outputs": [
    {
     "name": "stderr",
     "output_type": "stream",
     "text": [
      "/var/folders/dz/71j5m95x01d2wwbm3pz62vz80000gn/T/ipykernel_4887/2426596650.py:4: SettingWithCopyWarning: \n",
      "A value is trying to be set on a copy of a slice from a DataFrame.\n",
      "Try using .loc[row_indexer,col_indexer] = value instead\n",
      "\n",
      "See the caveats in the documentation: https://pandas.pydata.org/pandas-docs/stable/user_guide/indexing.html#returning-a-view-versus-a-copy\n",
      "  num_vars_sub['price'] = price\n"
     ]
    },
    {
     "data": {
      "text/plain": [
       "<AxesSubplot:>"
      ]
     },
     "execution_count": 20,
     "metadata": {},
     "output_type": "execute_result"
    },
    {
     "data": {
      "image/png": "[encoded data removed]",
      "text/plain": [
       "<Figure size 432x288 with 2 Axes>"
      ]
     },
     "metadata": {
      "needs_background": "light"
     },
     "output_type": "display_data"
    }
   ],
   "source": [
    "#Create heatmap for important numeric variables\n",
    "num_vars_sub = fill_num_vars[['host_response_rate', 'host_acceptance_rate', 'accommodates', 'bedrooms', 'beds',\n",
    "       'number_of_reviews', 'review_scores_rating','reviews_per_month']]\n",
    "num_vars_sub['price'] = price\n",
    "sns.heatmap(num_vars_sub.corr(), annot=True, fmt = '.2f')"
   ]
  },
  {
   "cell_type": "code",
   "execution_count": 21,
   "id": "505e0e6e",
   "metadata": {},
   "outputs": [],
   "source": [
    "#Combine dataframes to be used in the machine learning analysis\n",
    "frames = [fill_num_vars, name_one_hot, amenities_one_hot, cat_one_hot]\n",
    "X = pd.concat(frames, axis = 1)"
   ]
  },
  {
   "cell_type": "markdown",
   "id": "dbe39554",
   "metadata": {},
   "source": [
    "Finally, the data prep is done! Now on to Data Modeling."
   ]
  },
  {
   "cell_type": "markdown",
   "id": "8d5a899a",
   "metadata": {},
   "source": [
    "# Data Modeling"
   ]
  },
  {
   "cell_type": "code",
   "execution_count": 22,
   "id": "345b1f99",
   "metadata": {},
   "outputs": [
    {
     "name": "stdout",
     "output_type": "stream",
     "text": [
      "Linear Regression R^2 train: 0.679, test: 0.633\n"
     ]
    }
   ],
   "source": [
    "def linear_regression(X, y):\n",
    "    '''\n",
    "    Function to develop a linear regression model for inputs X (features) and y (response)\n",
    "    Returns test and training R-Squared scores, X_train, X_test, y_train, y_test, and predictions\n",
    "    '''\n",
    "    #train linear regression model\n",
    "    X_train, X_test, y_train, y_test = train_test_split(X, y, test_size = .30, random_state=42) \n",
    "\n",
    "    lm_model = LinearRegression(normalize=True) # Instantiate\n",
    "    lm_model.fit(X_train, y_train) #Fit\n",
    "\n",
    "    #Predict and score the model\n",
    "    y_test_preds = lm_model.predict(X_test) \n",
    "    y_train_preds = lm_model.predict(X_train)\n",
    "    test_score = r2_score(y_test, y_test_preds)\n",
    "    train_score = r2_score(y_train, y_train_preds)\n",
    "    return test_score, train_score, lm_model, X_train, X_test, y_train, y_test, y_train_preds, y_test_preds\n",
    "\n",
    "\n",
    "#Test function with the above dataset\n",
    "test_score, train_score, lm_model, X_train, X_test, y_train, y_test, y_train_preds, y_test_preds = linear_regression(X, y_log) #change y with y_log to see improvement\n",
    "\n",
    "#print scores for the model\n",
    "print('Linear Regression R^2 train: %.3f, test: %.3f' % (\n",
    "        r2_score(y_train, y_train_preds),\n",
    "        r2_score(y_test, y_test_preds)))"
   ]
  },
  {
   "cell_type": "code",
   "execution_count": 23,
   "id": "98e52b20",
   "metadata": {},
   "outputs": [
    {
     "name": "stdout",
     "output_type": "stream",
     "text": [
      "Random Forest R^2 train: 0.957, test: 0.676\n"
     ]
    }
   ],
   "source": [
    "#function for random forest regressor\n",
    "def random_forest(X, y):\n",
    "    '''\n",
    "    Function to develop a Random Forest Regressor model for inputs X (features) and y (response)\n",
    "    Returns test and training R-Squared scores, X_train, X_test, y_train, y_test, and predictions\n",
    "    '''\n",
    "    #train random forest model\n",
    "    X_train, X_test, y_train, y_test = train_test_split(X, y, test_size = .30, random_state=42)\n",
    "    forest = RandomForestRegressor(n_estimators = 200,\n",
    "                                   criterion = 'mse',\n",
    "                                   random_state = 42, \n",
    "                                   n_jobs = -1)\n",
    "    #fit random forest model\n",
    "    forest.fit(X_train, y_train.squeeze())\n",
    "\n",
    "    #calculate y predictions\n",
    "    y_train_preds = forest.predict(X_train)\n",
    "    y_test_preds = forest.predict(X_test)\n",
    "\n",
    "    return test_score, train_score, forest, X_train, X_test, y_train, y_test, y_train_preds, y_test_preds\n",
    "\n",
    "#Test function with above dataset\n",
    "test_score, train_score, forest, X_train, X_test, y_train, y_test, y_train_preds, y_test_preds = random_forest(X, y_log)\n",
    "\n",
    "#print scores for the model\n",
    "print('Random Forest R^2 train: %.3f, test: %.3f' % (\n",
    "        r2_score(y_train, y_train_preds),\n",
    "        r2_score(y_test, y_test_preds)))"
   ]
  },
  {
   "cell_type": "markdown",
   "id": "b7aead36",
   "metadata": {},
   "source": [
    "After running both Linear Regression and Random Forest for both Price and Log(price), Random Forest returned results with the least error. Now we can move on to further Result Evaluation and analysis."
   ]
  },
  {
   "cell_type": "markdown",
   "id": "f6acd279",
   "metadata": {},
   "source": [
    "# Result Evaluation and Analysis"
   ]
  },
  {
   "cell_type": "code",
   "execution_count": 24,
   "id": "e557a960",
   "metadata": {},
   "outputs": [
    {
     "data": {
      "text/html": [
       "<div>\n",
       "<style scoped>\n",
       "    .dataframe tbody tr th:only-of-type {\n",
       "        vertical-align: middle;\n",
       "    }\n",
       "\n",
       "    .dataframe tbody tr th {\n",
       "        vertical-align: top;\n",
       "    }\n",
       "\n",
       "    .dataframe thead th {\n",
       "        text-align: right;\n",
       "    }\n",
       "</style>\n",
       "<table border=\"1\" class=\"dataframe\">\n",
       "  <thead>\n",
       "    <tr style=\"text-align: right;\">\n",
       "      <th></th>\n",
       "      <th>est_int</th>\n",
       "      <th>coefs</th>\n",
       "      <th>abs_coefs</th>\n",
       "    </tr>\n",
       "  </thead>\n",
       "  <tbody>\n",
       "    <tr>\n",
       "      <th>5</th>\n",
       "      <td>bedrooms</td>\n",
       "      <td>0.28</td>\n",
       "      <td>0.28</td>\n",
       "    </tr>\n",
       "    <tr>\n",
       "      <th>4</th>\n",
       "      <td>accommodates</td>\n",
       "      <td>0.13</td>\n",
       "      <td>0.13</td>\n",
       "    </tr>\n",
       "    <tr>\n",
       "      <th>10</th>\n",
       "      <td>review_scores_cleanliness</td>\n",
       "      <td>0.04</td>\n",
       "      <td>0.04</td>\n",
       "    </tr>\n",
       "    <tr>\n",
       "      <th>134</th>\n",
       "      <td>property_type_Private room in residential home</td>\n",
       "      <td>0.03</td>\n",
       "      <td>0.03</td>\n",
       "    </tr>\n",
       "    <tr>\n",
       "      <th>13</th>\n",
       "      <td>review_scores_location</td>\n",
       "      <td>0.03</td>\n",
       "      <td>0.03</td>\n",
       "    </tr>\n",
       "    <tr>\n",
       "      <th>15</th>\n",
       "      <td>reviews_per_month</td>\n",
       "      <td>0.03</td>\n",
       "      <td>0.03</td>\n",
       "    </tr>\n",
       "    <tr>\n",
       "      <th>7</th>\n",
       "      <td>number_of_reviews</td>\n",
       "      <td>0.03</td>\n",
       "      <td>0.03</td>\n",
       "    </tr>\n",
       "    <tr>\n",
       "      <th>74</th>\n",
       "      <td>Air conditioning</td>\n",
       "      <td>0.02</td>\n",
       "      <td>0.02</td>\n",
       "    </tr>\n",
       "    <tr>\n",
       "      <th>1</th>\n",
       "      <td>host_acceptance_rate</td>\n",
       "      <td>0.02</td>\n",
       "      <td>0.02</td>\n",
       "    </tr>\n",
       "    <tr>\n",
       "      <th>146</th>\n",
       "      <td>bathrooms_text_1 bath</td>\n",
       "      <td>0.02</td>\n",
       "      <td>0.02</td>\n",
       "    </tr>\n",
       "  </tbody>\n",
       "</table>\n",
       "</div>"
      ],
      "text/plain": [
       "                                            est_int  coefs  abs_coefs\n",
       "5                                          bedrooms   0.28       0.28\n",
       "4                                      accommodates   0.13       0.13\n",
       "10                        review_scores_cleanliness   0.04       0.04\n",
       "134  property_type_Private room in residential home   0.03       0.03\n",
       "13                           review_scores_location   0.03       0.03\n",
       "15                                reviews_per_month   0.03       0.03\n",
       "7                                 number_of_reviews   0.03       0.03\n",
       "74                                 Air conditioning   0.02       0.02\n",
       "1                              host_acceptance_rate   0.02       0.02\n",
       "146                           bathrooms_text_1 bath   0.02       0.02"
      ]
     },
     "execution_count": 24,
     "metadata": {},
     "output_type": "execute_result"
    }
   ],
   "source": [
    "def feature_importance(coefficients, X_train):\n",
    "    '''\n",
    "    INPUT:\n",
    "    coefficients - the coefficients of the random forest model\n",
    "    X_train - the training data, so the column names can be used\n",
    "    OUTPUT:\n",
    "    coefs_df - a dataframe holding the coefficient, estimate, and abs(estimate)\n",
    "    \n",
    "    Provides a dataframe that can be used to understand the most influential coefficients\n",
    "    in a random forest model by providing the coefficient estimates along with the name of the \n",
    "    variable attached to the coefficient.\n",
    "    '''\n",
    "    coefs_df = pd.DataFrame()\n",
    "    coefs_df['est_int'] = X_train.columns\n",
    "    coefs_df['coefs'] = forest.feature_importances_\n",
    "    coefs_df['abs_coefs'] = np.abs(forest.feature_importances_)\n",
    "#     coefs_df['coefs'] = lm_model.coef_  #use these for linear model\n",
    "#     coefs_df['abs_coefs'] = np.abs(lm_model.coef_)  #use these for linear model\n",
    "    coefs_df = coefs_df.sort_values('abs_coefs', ascending=False)\n",
    "    return coefs_df\n",
    "\n",
    "#Use the function\n",
    "coef_df = feature_importance(lm_model.coef_, X_train)\n",
    "\n",
    "#A quick look at the top 10 results\n",
    "coef_df.head(10)"
   ]
  },
  {
   "cell_type": "code",
   "execution_count": 25,
   "id": "7a3894dd",
   "metadata": {
    "scrolled": false
   },
   "outputs": [
    {
     "data": {
      "image/png": "[encoded data removed]",
      "text/plain": [
       "<Figure size 720x360 with 1 Axes>"
      ]
     },
     "metadata": {
      "needs_background": "light"
     },
     "output_type": "display_data"
    }
   ],
   "source": [
    "def plot_feature_importance(qty_features):\n",
    "    '''\n",
    "    Plots feature importance for random forest model with input of the quantity of features the user would like to generate\n",
    "    '''\n",
    "    #plot feature importances\n",
    "    features = coef_df['est_int'][:qty_features]\n",
    "    top_scores = coef_df['abs_coefs'][:qty_features]\n",
    "    y_pos = np.arange(len(features))\n",
    "\n",
    "    plt.figure(figsize=(10,5))\n",
    "    plt.bar(features, top_scores)\n",
    "    plt.xticks(y_pos, features, rotation='vertical')\n",
    "    plt.ylabel('Score')\n",
    "    plt.xlabel('Features')\n",
    "    plt.title('Feature Importance (Random Forest)')\n",
    "\n",
    "    plt.show()\n",
    "    return\n",
    "\n",
    "plot_feature_importance(30)"
   ]
  },
  {
   "cell_type": "markdown",
   "id": "39667a4e",
   "metadata": {},
   "source": [
    "Plotting feature importance for the Random Forest output gave us some interesting insights into what variables bubbled up to the top. As expected, bedrooms and accommodates came out in front, as we would expect size to be correlated to price. However, there were some interesting amenities that seem to play in the mix in predicting price, as well as some other features. Those will be explored more in the following steps."
   ]
  },
  {
   "cell_type": "code",
   "execution_count": 26,
   "id": "fa127400",
   "metadata": {},
   "outputs": [
    {
     "data": {
      "image/png": "[encoded data removed]",
      "text/plain": [
       "<Figure size 432x288 with 1 Axes>"
      ]
     },
     "metadata": {
      "needs_background": "light"
     },
     "output_type": "display_data"
    },
    {
     "name": "stdout",
     "output_type": "stream",
     "text": [
      "   bedrooms  price\n",
      "0      1.00 132.01\n",
      "1      2.00 240.53\n",
      "2      3.00 315.52\n",
      "3      4.00 350.22\n",
      "4      5.00 389.09\n",
      "5      6.00 332.00\n",
      "6      8.00 557.00\n",
      "7      9.00 537.00\n"
     ]
    }
   ],
   "source": [
    "#Plot avg price vs bedroom quantity and print average price for each grouping\n",
    "average_price = df.groupby(df['bedrooms'], as_index = False)['price'].mean() #group bedroom qty by average price\n",
    "plt.plot(average_price['bedrooms'], average_price['price'])\n",
    "plt.xlabel('Number of Bedrooms')\n",
    "plt.ylabel('Avg. Price')\n",
    "plt.title('Avg. Price vs Bedroom Quantity', y=1.1)\n",
    "plt.show()\n",
    "print(average_price)"
   ]
  },
  {
   "cell_type": "markdown",
   "id": "05c604e1",
   "metadata": {},
   "source": [
    "Avg price increases with number of bedrooms. Makes sense. It gets a little more interesting with the next plot of Avg price/bedroom vs Bedroom Quantity. Interesting stats to take into consideration if one is trying to determine the optimal number of bedrooms to list."
   ]
  },
  {
   "cell_type": "code",
   "execution_count": 27,
   "id": "92ba41f9",
   "metadata": {},
   "outputs": [
    {
     "data": {
      "image/png": "[encoded data removed]",
      "text/plain": [
       "<Figure size 432x288 with 1 Axes>"
      ]
     },
     "metadata": {
      "needs_background": "light"
     },
     "output_type": "display_data"
    },
    {
     "data": {
      "text/html": [
       "<div>\n",
       "<style scoped>\n",
       "    .dataframe tbody tr th:only-of-type {\n",
       "        vertical-align: middle;\n",
       "    }\n",
       "\n",
       "    .dataframe tbody tr th {\n",
       "        vertical-align: top;\n",
       "    }\n",
       "\n",
       "    .dataframe thead th {\n",
       "        text-align: right;\n",
       "    }\n",
       "</style>\n",
       "<table border=\"1\" class=\"dataframe\">\n",
       "  <thead>\n",
       "    <tr style=\"text-align: right;\">\n",
       "      <th></th>\n",
       "      <th>bedrooms</th>\n",
       "      <th>price</th>\n",
       "    </tr>\n",
       "  </thead>\n",
       "  <tbody>\n",
       "    <tr>\n",
       "      <th>0</th>\n",
       "      <td>1.00</td>\n",
       "      <td>132.01</td>\n",
       "    </tr>\n",
       "    <tr>\n",
       "      <th>1</th>\n",
       "      <td>2.00</td>\n",
       "      <td>240.53</td>\n",
       "    </tr>\n",
       "    <tr>\n",
       "      <th>2</th>\n",
       "      <td>3.00</td>\n",
       "      <td>315.52</td>\n",
       "    </tr>\n",
       "    <tr>\n",
       "      <th>3</th>\n",
       "      <td>4.00</td>\n",
       "      <td>350.22</td>\n",
       "    </tr>\n",
       "    <tr>\n",
       "      <th>4</th>\n",
       "      <td>5.00</td>\n",
       "      <td>389.09</td>\n",
       "    </tr>\n",
       "    <tr>\n",
       "      <th>5</th>\n",
       "      <td>6.00</td>\n",
       "      <td>332.00</td>\n",
       "    </tr>\n",
       "    <tr>\n",
       "      <th>6</th>\n",
       "      <td>8.00</td>\n",
       "      <td>557.00</td>\n",
       "    </tr>\n",
       "    <tr>\n",
       "      <th>7</th>\n",
       "      <td>9.00</td>\n",
       "      <td>537.00</td>\n",
       "    </tr>\n",
       "  </tbody>\n",
       "</table>\n",
       "</div>"
      ],
      "text/plain": [
       "   bedrooms  price\n",
       "0      1.00 132.01\n",
       "1      2.00 240.53\n",
       "2      3.00 315.52\n",
       "3      4.00 350.22\n",
       "4      5.00 389.09\n",
       "5      6.00 332.00\n",
       "6      8.00 557.00\n",
       "7      9.00 537.00"
      ]
     },
     "execution_count": 27,
     "metadata": {},
     "output_type": "execute_result"
    }
   ],
   "source": [
    "#Plot avg price/bedroom vs bedroom quantity and print average price for each grouping\n",
    "average_price = df.groupby(df['bedrooms'], as_index = False)['price'].mean() #group bedroom qty by average price\n",
    "plt.plot(average_price['bedrooms'], average_price['price']/average_price['bedrooms'])\n",
    "plt.xlabel('Bedroom Quantity')\n",
    "plt.ylabel('Avg. Price/Bedroom')\n",
    "plt.title('Avg. Price/Bedroom vs Bedroom Quantity', y=1.1)\n",
    "plt.show()\n",
    "average_price"
   ]
  },
  {
   "cell_type": "code",
   "execution_count": 28,
   "id": "198fcb1c",
   "metadata": {},
   "outputs": [
    {
     "data": {
      "image/png": "[encoded data removed]",
      "text/plain": [
       "<Figure size 432x288 with 1 Axes>"
      ]
     },
     "metadata": {
      "needs_background": "light"
     },
     "output_type": "display_data"
    }
   ],
   "source": [
    "average_price = df.groupby(df['room_type'], as_index = False)['price'].mean().sort_values(by = ['price'])\n",
    "plt.barh(average_price['room_type'], average_price['price'])\n",
    "# plt.barh(average_price['neighbourhood_cleansed'], average_price['price'])\n",
    "for i, v in enumerate(average_price['price']):\n",
    "    plt.text(v, i, round(v,2), fontweight='bold')\n",
    "plt.xlim(0,300)\n",
    "plt.xlabel('Avg. Price')\n",
    "plt.ylabel('Room Type')\n",
    "plt.title('Avg. Price vs Room Type', y=1.1)\n",
    "plt.show()"
   ]
  },
  {
   "cell_type": "code",
   "execution_count": 29,
   "id": "d09cd836",
   "metadata": {},
   "outputs": [
    {
     "data": {
      "image/png": "[encoded data removed]",
      "text/plain": [
       "<Figure size 432x288 with 1 Axes>"
      ]
     },
     "metadata": {
      "needs_background": "light"
     },
     "output_type": "display_data"
    }
   ],
   "source": [
    "# average_price = df.groupby(df['bedrooms'], as_index = False)['price'].mean()\n",
    "plt.scatter(df['review_scores_cleanliness'], df['price'])\n",
    "plt.xlabel('Cleanliness Score')\n",
    "plt.ylabel('Price')\n",
    "plt.title('Price vs Cleanliness Score', y=1.1)\n",
    "plt.show()"
   ]
  },
  {
   "cell_type": "markdown",
   "id": "8dd050f0",
   "metadata": {},
   "source": [
    "While not super obvious, there is certainly an apparent trend that higher priced accommodations tend to have higher cleanliness scores. Especially when the price gets over $400/night.\n",
    "\n",
    "Now let's take a look into amenities..."
   ]
  },
  {
   "cell_type": "code",
   "execution_count": 30,
   "id": "131745e4",
   "metadata": {},
   "outputs": [],
   "source": [
    "#Prep amenities data to be plotted with \"Yes\" and \"No\" values rather than 1 or 0\n",
    "amenities_cat = amenities_one_hot.replace(1,'Yes')\n",
    "amenities_cat = amenities_cat.replace(0,'No')\n",
    "\n",
    "amenities_price = [price, amenities_cat]\n",
    "amenities_price = pd.concat(amenities_price, axis = 1)"
   ]
  },
  {
   "cell_type": "code",
   "execution_count": 31,
   "id": "7d3f8d4d",
   "metadata": {},
   "outputs": [
    {
     "data": {
      "image/png": "[encoded data removed]",
      "text/plain": [
       "<Figure size 432x288 with 1 Axes>"
      ]
     },
     "metadata": {
      "needs_background": "light"
     },
     "output_type": "display_data"
    }
   ],
   "source": [
    "average_price = amenities_price.groupby(amenities_price['Air conditioning'], as_index = False)['price'].mean().sort_values(by = ['price'], ascending = False)\n",
    "top10_average_price = average_price.head(10).sort_values(by = ['price'])\n",
    "plt.barh(top10_average_price['Air conditioning'], top10_average_price['price'])\n",
    "# plt.barh(average_price['neighbourhood_cleansed'], average_price['price'])\n",
    "for i, v in enumerate(top10_average_price['price']):\n",
    "    plt.text(v, i, round(v,2), fontweight='bold')\n",
    "plt.xlim(0,250)\n",
    "plt.xlabel('Avg. Price')\n",
    "plt.ylabel('Had A/C?')\n",
    "plt.title('Avg. Price vs Had A/C', y=1.1)\n",
    "plt.show()"
   ]
  },
  {
   "cell_type": "markdown",
   "id": "b7f38550",
   "metadata": {},
   "source": [
    "While only 47% of houses in the bay area have A/C, it still seems to be valuable at an additional $31/night!"
   ]
  },
  {
   "cell_type": "code",
   "execution_count": 32,
   "id": "554dc14e",
   "metadata": {},
   "outputs": [
    {
     "data": {
      "image/png": "[encoded data removed]",
      "text/plain": [
       "<Figure size 432x288 with 1 Axes>"
      ]
     },
     "metadata": {
      "needs_background": "light"
     },
     "output_type": "display_data"
    }
   ],
   "source": [
    "average_price = amenities_price.groupby(amenities_price['Dishwasher'], as_index = False)['price'].mean().sort_values(by = ['price'], ascending = False)\n",
    "top10_average_price = average_price.head(10).sort_values(by = ['price'])\n",
    "plt.barh(top10_average_price['Dishwasher'], top10_average_price['price'])\n",
    "# plt.barh(average_price['neighbourhood_cleansed'], average_price['price'])\n",
    "for i, v in enumerate(top10_average_price['price']):\n",
    "    plt.text(v, i, round(v,2), fontweight='bold')\n",
    "plt.xlim(0,250)\n",
    "plt.xlabel('Avg. Price')\n",
    "plt.ylabel('Had Dishwasher?')\n",
    "plt.title('Avg. Price vs Dishwasher', y=1.1)\n",
    "plt.show()"
   ]
  },
  {
   "cell_type": "markdown",
   "id": "2cf29124",
   "metadata": {},
   "source": [
    "Never would have guessed that dishwashers were valued so highly. I guess no one likes to do dishes! You might think this is correlated with accommodations having kitchens, but kitchens did not show up as an important feature, and the below plot indicates they're not quite as big of a price booster as dishwashers."
   ]
  },
  {
   "cell_type": "code",
   "execution_count": 33,
   "id": "852beb16",
   "metadata": {},
   "outputs": [
    {
     "data": {
      "image/png": "[encoded data removed]",
      "text/plain": [
       "<Figure size 432x288 with 1 Axes>"
      ]
     },
     "metadata": {
      "needs_background": "light"
     },
     "output_type": "display_data"
    }
   ],
   "source": [
    "average_price = amenities_price.groupby(amenities_price['Kitchen'], as_index = False)['price'].mean().sort_values(by = ['price'], ascending = False)\n",
    "top10_average_price = average_price.head(10).sort_values(by = ['price'])\n",
    "plt.barh(top10_average_price['Kitchen'], top10_average_price['price'])\n",
    "# plt.barh(average_price['neighbourhood_cleansed'], average_price['price'])\n",
    "for i, v in enumerate(top10_average_price['price']):\n",
    "    plt.text(v, i, round(v,2), fontweight='bold')\n",
    "plt.xlim(0,250)\n",
    "plt.xlabel('Avg. Price')\n",
    "plt.ylabel('Had Kitchen?')\n",
    "plt.title('Avg. Price vs Kitchen', y=1.1)\n",
    "plt.show()"
   ]
  },
  {
   "cell_type": "code",
   "execution_count": 34,
   "id": "50e06fe4",
   "metadata": {},
   "outputs": [
    {
     "data": {
      "image/png": "[encoded data removed]",
      "text/plain": [
       "<Figure size 432x288 with 1 Axes>"
      ]
     },
     "metadata": {
      "needs_background": "light"
     },
     "output_type": "display_data"
    }
   ],
   "source": [
    "average_price = amenities_price.groupby(amenities_price['Wifi'], as_index = False)['price'].mean().sort_values(by = ['price'], ascending = False)\n",
    "top10_average_price = average_price.head(10).sort_values(by = ['price'])\n",
    "plt.barh(top10_average_price['Wifi'], top10_average_price['price'])\n",
    "# plt.barh(average_price['neighbourhood_cleansed'], average_price['price'])\n",
    "for i, v in enumerate(top10_average_price['price']):\n",
    "    plt.text(v, i, round(v,2), fontweight='bold')\n",
    "plt.xlim(0,250)\n",
    "plt.xlabel('Avg. Price')\n",
    "plt.ylabel('Had Wifi?')\n",
    "plt.title('Avg. Price vs Wifi', y=1.1)\n",
    "plt.show()"
   ]
  },
  {
   "cell_type": "markdown",
   "id": "d8c6851e",
   "metadata": {},
   "source": [
    "Wifi is imporant. Especially in the tech capital of the world."
   ]
  },
  {
   "cell_type": "code",
   "execution_count": 35,
   "id": "00002243",
   "metadata": {},
   "outputs": [
    {
     "data": {
      "image/png": "[encoded data removed]",
      "text/plain": [
       "<Figure size 432x288 with 1 Axes>"
      ]
     },
     "metadata": {
      "needs_background": "light"
     },
     "output_type": "display_data"
    }
   ],
   "source": [
    "average_price = df.groupby(df['neighbourhood_cleansed'], as_index = False)['price'].mean().sort_values(by = ['price'], ascending = False)\n",
    "top10_average_price = average_price.head(10).sort_values(by = ['price'])\n",
    "plt.barh(top10_average_price['neighbourhood_cleansed'], top10_average_price['price'])\n",
    "# plt.barh(average_price['neighbourhood_cleansed'], average_price['price'])\n",
    "for i, v in enumerate(top10_average_price['price']):\n",
    "    plt.text(v, i, round(v,2), fontweight='bold')\n",
    "plt.xlim(0,300)\n",
    "plt.xlabel('Avg. Price')\n",
    "plt.ylabel('Neighborhood')\n",
    "plt.title('Avg. Price vs Neighborhood', y=1.1)\n",
    "plt.show()"
   ]
  },
  {
   "cell_type": "markdown",
   "id": "8b53f73e",
   "metadata": {},
   "source": [
    "Even though neighborhood didn't make the list of top 30 features for predicting price, there is still value in the neighborhood! These are just the top 10, but there is a significant price jump between them."
   ]
  },
  {
   "cell_type": "markdown",
   "id": "24e699fe",
   "metadata": {},
   "source": [
    "# Conclusion/Deployment"
   ]
  },
  {
   "cell_type": "markdown",
   "id": "8eccd14f",
   "metadata": {},
   "source": [
    "In this analysis, we took a look at how one can become a more successful Airbnb host and maximize the price of their listing, using a data-driven approach. \n",
    "We gathered data from over 6,000 listings in San Francisco and identified the 30 most important features from those listings.\n",
    "We then looked at what amenities will enable them to boost their price the most and by how much.\n",
    "Finally, we looked at what size, housing type, and location is best for hosting thir Airbnb, as well as some other interesting features.\n",
    "\n",
    "This analysis was inspired by a project as part of the Data Science Nanodegree I am currently pursuing through Udacity. I used my findings and graphics from here to write an article on Medium titled, \"How Do YOU Become A Successful Airbnb Host In San Francisco?\" I plan to continue refining my code and making improvements to my machine learning process as I continue learning more. Thanks for reading!"
   ]
  }
 ],
 "metadata": {
  "kernelspec": {
   "display_name": "Python 3 (ipykernel)",
   "language": "python",
   "name": "python3"
  },
  "language_info": {
   "codemirror_mode": {
    "name": "ipython",
    "version": 3
   },
   "file_extension": ".py",
   "mimetype": "text/x-python",
   "name": "python",
   "nbconvert_exporter": "python",
   "pygments_lexer": "ipython3",
   "version": "3.9.7"
  }
 },
 "nbformat": 4,
 "nbformat_minor": 5
}
